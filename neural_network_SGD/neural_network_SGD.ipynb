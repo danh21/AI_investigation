{
  "nbformat": 4,
  "nbformat_minor": 0,
  "metadata": {
    "colab": {
      "provenance": [],
      "authorship_tag": "ABX9TyMEWqR5kBPEnm2T+h7iBMJc",
      "include_colab_link": true
    },
    "kernelspec": {
      "name": "python3",
      "display_name": "Python 3"
    },
    "language_info": {
      "name": "python"
    }
  },
  "cells": [
    {
      "cell_type": "markdown",
      "metadata": {
        "id": "view-in-github",
        "colab_type": "text"
      },
      "source": [
        "<a href=\"https://colab.research.google.com/github/danh21/AI_investigation/blob/main/neural_network_SGD.ipynb\" target=\"_parent\"><img src=\"https://colab.research.google.com/assets/colab-badge.svg\" alt=\"Open In Colab\"/></a>"
      ]
    },
    {
      "cell_type": "code",
      "execution_count": null,
      "metadata": {
        "id": "I_K7Ne-UDXVz",
        "colab": {
          "base_uri": "https://localhost:8080/"
        },
        "outputId": "ec9bf0e5-3d9e-4815-fd24-57f1feac9943"
      },
      "outputs": [
        {
          "output_type": "stream",
          "name": "stdout",
          "text": [
            "Load MNIST Database\n",
            "Downloading data from https://storage.googleapis.com/tensorflow/tf-keras-datasets/mnist.npz\n",
            "11493376/11490434 [==============================] - 0s 0us/step\n",
            "11501568/11490434 [==============================] - 0s 0us/step\n",
            "------------------------------------------\n",
            "(60000, 784)\n",
            "(60000, 10)\n"
          ]
        }
      ],
      "source": [
        "import numpy as np\n",
        "import tensorflow as tf\n",
        "#load datasheet\n",
        "print ('Load MNIST Database')\n",
        "mnist = tf.keras.datasets.mnist\n",
        "(x_train,y_train), (x_test, y_test) = mnist.load_data()\n",
        "x_train = np.reshape(x_train,(60000,784))/255.0\n",
        "x_test = np.reshape(x_test,(10000,784))/255.0\n",
        "y_train = np.matrix(np.eye(10)[y_train])\n",
        "y_test = np.matrix(np.eye(10)[y_test])\n",
        "print(\"------------------------------------------\")\n",
        "print(x_train.shape)\n",
        "print(y_train.shape)"
      ]
    },
    {
      "cell_type": "code",
      "source": [
        "def sigmoid(x):\n",
        "  return 1./(1.+np.exp(-x))\n",
        "def softmax(x):\n",
        "  return np.divide(np.matrix(np.exp(x)),np.mat(np.sum(np.exp(x),axis=1)))\n",
        "def ReLU(x):\n",
        "  return np.maximum(x,0)\n",
        "def Forwardpass(x,Wh1,bh1,Wh2,bh2,Wo,bo):\n",
        "  zh1 = x@Wh1.T + bh1\n",
        "  a1 = ReLU(zh1)\n",
        "  zh2 = a1@Wh2.T + bh2\n",
        "  a2 = sigmoid(zh2)\n",
        "  z = a2@Wo.T + bo\n",
        "  o = softmax(z)\n",
        "  return o\n",
        "def AccTest(label,prediction): #calculate the matching score\n",
        "  OutMaxArg = np.argmax(prediction,axis=1)\n",
        "  LabelMaxArg = np.argmax(label,axis=1)\n",
        "  Accuracy = np.mean(OutMaxArg==LabelMaxArg)\n",
        "  return Accuracy"
      ],
      "metadata": {
        "id": "Uv3COnr6D6OM"
      },
      "execution_count": null,
      "outputs": []
    },
    {
      "cell_type": "code",
      "source": [
        "#define the network parameter\n",
        "learningRate = 0.5\n",
        "Epoch = 10\n",
        "NumTrainSamples = 60000\n",
        "NumTestSamples = 10000\n",
        "NumInputs = 784\n",
        "NumHiddenUnits = 512\n",
        "# NumHiddenUnits1 = 512\n",
        "NumClasses = 10\n",
        "\n",
        "#initial weights\n",
        "#hidden layer 1\n",
        "Wh1 = np.matrix(np.random.uniform(-0.5,0.5,(NumHiddenUnits,NumInputs)))\n",
        "bh1 = np.random.uniform(0,0.5,(1,NumHiddenUnits))\n",
        "dWh1 = np.zeros((NumHiddenUnits,NumInputs))\n",
        "dbh1 = np.zeros((1,NumHiddenUnits))\n",
        "#hidden layer 2\n",
        "Wh2 = np.matrix(np.random.uniform(-0.5,0.5,(NumHiddenUnits,NumHiddenUnits)))\n",
        "bh2 = np.random.uniform(0,0.5,(1,NumHiddenUnits))\n",
        "dWh2 = np.zeros((NumHiddenUnits,NumHiddenUnits))\n",
        "dbh2 = np.zeros((1,NumHiddenUnits))\n",
        "#Output layer\n",
        "Wo = np.random.uniform(-0.5,0.5,(NumClasses,NumHiddenUnits))\n",
        "bo = np.random.uniform(0,0.5,(1,NumClasses))\n",
        "dWo = np.zeros((NumClasses,NumHiddenUnits))\n",
        "dbo = np.zeros((1,NumClasses))"
      ],
      "metadata": {
        "id": "lQTVg0OtHhRD"
      },
      "execution_count": null,
      "outputs": []
    },
    {
      "cell_type": "code",
      "source": [
        "#Test accuracy with random initial weights\n",
        "prediction = Forwardpass(x_train,Wh1,bh1,Wh2,bh2,Wo,bo)\n",
        "Acc = AccTest(y_train,prediction)\n",
        "print(Acc)"
      ],
      "metadata": {
        "colab": {
          "base_uri": "https://localhost:8080/"
        },
        "id": "aeEn067e3fhi",
        "outputId": "ddc70421-4e7d-49f0-8f4d-5df65647a3f5"
      },
      "execution_count": null,
      "outputs": [
        {
          "output_type": "stream",
          "name": "stdout",
          "text": [
            "0.129\n"
          ]
        }
      ]
    },
    {
      "cell_type": "code",
      "source": [
        "# from IPython.display import clear_output\n",
        "# import matplotlib.pyplot as plt\n",
        "# loss = []\n",
        "# Acc = []\n",
        "# for ep in range (Epoch):\n",
        "#   #feed fordware propagation\n",
        "#   x = x_train\n",
        "#   y = y_train\n",
        "#   zh1 = x@Wh1.T + bh1\n",
        "#   a1 = ReLU(zh1)\n",
        "#   zh2 = a1@Wh2.T + bh2\n",
        "#   a2 = sigmoid(zh2)\n",
        "#   z = a2@Wo.T + bo\n",
        "#   o = softmax(z)\n",
        "#   #calculate loss\n",
        "#   loss.append(-np.sum(np.multiply(y,np.log10(o))))\n",
        "#   #calculate the error for the output layer\n",
        "#   d = o - y\n",
        "#   #back propagate error\n",
        "#   dh2 = d@Wo\n",
        "#   dh2s = np.multiply(np.multiply(dh2,a2),(1-a2))\n",
        "#   dh1 = dh2s@Wh2\n",
        "#   #update weight\n",
        "#   dWo = np.matmul(np.transpose(d),a2)\n",
        "#   dbo = np.mean(d) #consider a is 1 for bias\n",
        "#   dWh2 = np.matmul(np.transpose(dh2s),a1)\n",
        "#   dbh2 = np.mean(dh2s) #consider a is 1 for bias\n",
        "#   dWh1 = np.matmul(np.transpose(dh1),x)\n",
        "#   dbh1 = np.mean(dh1) #consider a is 1 for bias\n",
        "#   Wo = Wo - learningRate * dWo/NumTrainSamples\n",
        "#   bo = bo - learningRate * dbo\n",
        "#   Wh2 = Wh2 - learningRate * dWh2/NumTrainSamples\n",
        "#   bh2 = bh2 - learningRate * dbh2\n",
        "#   Wh1 = Wh1 - learningRate * dWh1/NumTrainSamples\n",
        "#   bh1 = bh1 - learningRate * dbh1\n",
        "#   #Test accuracy with random initial weights\n",
        "#   prediction = Forwardpass(x_train,Wh1,bh1,Wh2,bh2,Wo,bo)\n",
        "#   Acc.append(AccTest(y_test,prediction))\n",
        "#   clear_output(wait=True)\n",
        "#   plt.plot([i for i, _ in enumerate(Acc)],Acc,'o')\n",
        "#   plt.show() #càng ngày càng chính xác hơn"
      ],
      "metadata": {
        "id": "GEZOOA7e35-s"
      },
      "execution_count": null,
      "outputs": []
    },
    {
      "cell_type": "code",
      "source": [
        "# #Test accuracy with random initial weights\n",
        "# prediction = Forwardpass(x_train,Wh1,bh1,Wh2,bh2,Wo,bo)\n",
        "# Acc = AccTest(y_train,prediction)\n",
        "# print(Acc)"
      ],
      "metadata": {
        "colab": {
          "base_uri": "https://localhost:8080/"
        },
        "id": "CiMbUhuFKe7X",
        "outputId": "2f1593d1-e2e2-4c9e-afd6-6ba91af1ccaf"
      },
      "execution_count": null,
      "outputs": [
        {
          "output_type": "stream",
          "name": "stdout",
          "text": [
            "0.07296666666666667\n"
          ]
        }
      ]
    },
    {
      "cell_type": "code",
      "source": [
        "#mini-batch SGD\n",
        "from IPython.display import clear_output\n",
        "import matplotlib.pyplot as plt\n",
        "loss = []\n",
        "Acc = []\n",
        "Batch_size = 200\n",
        "Stochastic_samples = np.arange(NumTrainSamples) # 0,1,2,3,4,5,6,7,...,59999\n",
        "for ep in range (Epoch):\n",
        "  np.random.shuffle(Stochastic_samples)\n",
        "  for ite in range (0,NumTrainSamples,Batch_size):\n",
        "    #feed fordware propagation\n",
        "    Batch_samples = Stochastic_samples[ite:ite+Batch_size]\n",
        "    x = x_train[Batch_samples,:]\n",
        "    y = y_train[Batch_samples,:]\n",
        "    zh1 = x@Wh1.T + bh1\n",
        "    a1 = ReLU(zh1)\n",
        "    zh2 = a1@Wh2.T + bh2\n",
        "    a2 = sigmoid(zh2)\n",
        "    z = a2@Wo.T + bo\n",
        "    o = softmax(z)\n",
        "    #calculate loss\n",
        "    loss.append(-np.sum(np.multiply(y,np.log10(o))))\n",
        "    #calculate the error for the output layer\n",
        "    d = o - y\n",
        "    #back propagate error\n",
        "    dh2 = d@Wo\n",
        "    dhs2 = np.multiply(np.multiply(dh2,a2),(1-a2))\n",
        "    dh1 = dhs2@Wh2\n",
        "    #update weight\n",
        "    dWo = np.matmul(np.transpose(d),a2)\n",
        "    dbo = np.mean(d) #consider a is 1 for bias\n",
        "    dWh2 = np.matmul(np.transpose(dhs2),a1)\n",
        "    dbh2 = np.mean(dhs2) #consider a is 1 for bias\n",
        "    dWh1 = np.matmul(np.transpose(dh1),x)\n",
        "    dbh1 = np.mean(dh1) #consider a is 1 for bias\n",
        "    Wo = Wo - learningRate * dWo/Batch_size\n",
        "    bo = bo - learningRate * dbo\n",
        "    Wh2 = Wh2 - learningRate * dWh2/Batch_size\n",
        "    bh2 = bh2 - learningRate * dbh2\n",
        "    Wh1 = Wh1 - learningRate * dWh1/Batch_size\n",
        "    bh1 = bh1 - learningRate * dbh1\n",
        "  #Test accuracy with random initial weights\n",
        "  prediction = Forwardpass(x_test,Wh1,bh1,Wh2,bh2,Wo,bo)\n",
        "  Acc.append(AccTest(y_test,prediction))\n",
        "  print('Epoch:',ep)\n",
        "  print('Accuracy:',AccTest(y_test,prediction))\n",
        ""
      ],
      "metadata": {
        "colab": {
          "base_uri": "https://localhost:8080/"
        },
        "id": "aj4fQ6_KKlXd",
        "outputId": "ac8c1f9b-1da0-427f-8f8d-257f5479c56b"
      },
      "execution_count": null,
      "outputs": [
        {
          "output_type": "stream",
          "name": "stdout",
          "text": [
            "Epoch: 0\n",
            "Accuracy: 0.935\n",
            "Epoch: 1\n",
            "Accuracy: 0.945\n",
            "Epoch: 2\n",
            "Accuracy: 0.9489\n",
            "Epoch: 3\n",
            "Accuracy: 0.9565\n",
            "Epoch: 4\n",
            "Accuracy: 0.9584\n",
            "Epoch: 5\n",
            "Accuracy: 0.9575\n",
            "Epoch: 6\n",
            "Accuracy: 0.9601\n",
            "Epoch: 7\n",
            "Accuracy: 0.9612\n",
            "Epoch: 8\n",
            "Accuracy: 0.9628\n",
            "Epoch: 9\n",
            "Accuracy: 0.964\n"
          ]
        }
      ]
    }
  ]
}