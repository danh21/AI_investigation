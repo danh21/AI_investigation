{
  "nbformat": 4,
  "nbformat_minor": 0,
  "metadata": {
    "colab": {
      "provenance": [],
      "authorship_tag": "ABX9TyMvjfBjIfJouOFa/UH9hdyA",
      "include_colab_link": true
    },
    "kernelspec": {
      "name": "python3",
      "display_name": "Python 3"
    },
    "language_info": {
      "name": "python"
    }
  },
  "cells": [
    {
      "cell_type": "markdown",
      "metadata": {
        "id": "view-in-github",
        "colab_type": "text"
      },
      "source": [
        "<a href=\"https://colab.research.google.com/github/danh21/AI_investigation/blob/main/Optimazation.ipynb\" target=\"_parent\"><img src=\"https://colab.research.google.com/assets/colab-badge.svg\" alt=\"Open In Colab\"/></a>"
      ]
    },
    {
      "cell_type": "code",
      "execution_count": null,
      "metadata": {
        "colab": {
          "base_uri": "https://localhost:8080/"
        },
        "id": "MWFRgo68G4FZ",
        "outputId": "714c3b6f-e84c-42d7-e8e1-9363cbe00fa8"
      },
      "outputs": [
        {
          "output_type": "stream",
          "name": "stdout",
          "text": [
            "Load MNIST Database\n",
            "------------------------------------------\n",
            "(60000, 784)\n",
            "(60000, 10)\n"
          ]
        }
      ],
      "source": [
        "import numpy as np\n",
        "import tensorflow as tf\n",
        "#load datasheet\n",
        "print ('Load MNIST Database')\n",
        "mnist = tf.keras.datasets.mnist\n",
        "(x_train,y_train), (x_test, y_test) = mnist.load_data()\n",
        "x_train = np.reshape(x_train,(60000,784))/255.0\n",
        "x_test = np.reshape(x_test,(10000,784))/255.0\n",
        "y_train = np.matrix(np.eye(10)[y_train])\n",
        "y_test = np.matrix(np.eye(10)[y_test])\n",
        "print(\"------------------------------------------\")\n",
        "print(x_train.shape)\n",
        "print(y_train.shape)"
      ]
    },
    {
      "cell_type": "code",
      "source": [
        "def sigmoid(x):\n",
        "  return 1./(1.+np.exp(-x))"
      ],
      "metadata": {
        "id": "99LWHfaZJlvo"
      },
      "execution_count": null,
      "outputs": []
    },
    {
      "cell_type": "code",
      "source": [
        "def softmax(x):\n",
        "  return np.divide(np.matrix(np.exp(x)),np.mat(np.sum(np.exp(x),axis=1)))"
      ],
      "metadata": {
        "id": "I0J5WMmnJqOO"
      },
      "execution_count": null,
      "outputs": []
    },
    {
      "cell_type": "code",
      "source": [
        "def Forwardpass(X,Wh,bh,Wo,bo):\n",
        "  zh = X@Wh.T + bh\n",
        "  a = sigmoid(zh)\n",
        "  z = a@Wo.T + bo\n",
        "  o = softmax(z)\n",
        "  return o"
      ],
      "metadata": {
        "id": "7pLV1NVSJxC4"
      },
      "execution_count": null,
      "outputs": []
    },
    {
      "cell_type": "code",
      "source": [
        "def AccTest(label,prediction): #calculate the matching score\n",
        "  OutMaxArg = np.argmax(prediction,axis=1)\n",
        "  LabelMaxArg = np.argmax(label,axis=1)\n",
        "  Accuracy = np.mean(OutMaxArg==LabelMaxArg)\n",
        "  return Accuracy"
      ],
      "metadata": {
        "id": "9uI3Uuv8J69B"
      },
      "execution_count": null,
      "outputs": []
    },
    {
      "cell_type": "code",
      "source": [
        "#define the network parameter\n",
        "learningRate = 0.5\n",
        "Epoch = 50\n",
        "NumTrainSamples = 60000\n",
        "NumTestSamples = 10000\n",
        "NumInputs = 784\n",
        "NumHiddenUnits = 512\n",
        "NumClasses = 10\n",
        "\n",
        "#initial weights\n",
        "#hidden layer\n",
        "Wh = np.matrix(np.random.uniform(-0.5,0.5,(NumHiddenUnits,NumInputs)))\n",
        "bh = np.random.uniform(0,0.5,(1,NumHiddenUnits))\n",
        "dWh = np.zeros((NumHiddenUnits,NumInputs))\n",
        "dbh = np.zeros((1,NumHiddenUnits))\n",
        "#Output layer\n",
        "Wo = np.random.uniform(-0.5,0.5,(NumClasses,NumHiddenUnits))\n",
        "bo = np.random.uniform(0,0.5,(1,NumClasses))\n",
        "dWo = np.zeros((NumClasses,NumHiddenUnits))\n",
        "dbo = np.zeros((1,NumClasses))"
      ],
      "metadata": {
        "id": "F9oKlcfZJ96t"
      },
      "execution_count": null,
      "outputs": []
    },
    {
      "cell_type": "code",
      "source": [
        "#Mạng 2 lớp (trực tiếp)\n",
        "from IPython.display import clear_output\n",
        "import matplotlib.pyplot as plt\n",
        "loss = []\n",
        "Acc = []\n",
        "for ep in range (Epoch):\n",
        "  #feed fordware propagation\n",
        "  x = x_train\n",
        "  y = y_train\n",
        "  zh = x@Wh.T + bh\n",
        "  a = sigmoid(zh)\n",
        "  z = a@Wo.T + bo\n",
        "  o = softmax(z)\n",
        "  #calculate loss\n",
        "  loss.append(-np.sum(np.multiply(y,np.log10(o))))\n",
        "  #calculate the error for the output layer\n",
        "  d = o - y\n",
        "  #back propagate error\n",
        "  dh = d@Wo\n",
        "  dhs = np.multiply(np.multiply(dh,a),(1-a))\n",
        "  #update weight\n",
        "  dWo = np.matmul(np.transpose(d),a)\n",
        "  dbo = np.mean(d) #consider a is 1 for bias\n",
        "  dWh = np.matmul(np.transpose(dhs),x)\n",
        "  dbh = np.mean(dhs) #consider a is 1 for bias\n",
        "  Wo = Wo - learningRate * dWo/NumTrainSamples # + 0.95*Wo\n",
        "  bo = bo - learningRate * dbo\n",
        "  Wh = Wh - learningRate * dWh/NumTrainSamples # + 0.95*Wh\n",
        "  bh = bh - learningRate * dbh\n",
        "  #Test accuracy with random initial weights\n",
        "  prediction = Forwardpass(x_test,Wh,bh,Wo,bo)\n",
        "  Acc.append(AccTest(y_test,prediction))\n",
        "  clear_output(wait=True)\n",
        "  plt.plot([i for i, _ in enumerate(Acc)],Acc,'o')\n",
        "  plt.show()"
      ],
      "metadata": {
        "colab": {
          "base_uri": "https://localhost:8080/",
          "height": 269
        },
        "id": "TvMyh4oXOyax",
        "outputId": "84bfbc38-f844-4f64-9320-2376222cb291"
      },
      "execution_count": null,
      "outputs": [
        {
          "output_type": "display_data",
          "data": {
            "text/plain": [
              "<Figure size 432x288 with 1 Axes>"
            ],
            "image/png": "[encoded data removed]"
          },
          "metadata": {
            "needs_background": "light"
          }
        }
      ]
    },
    {
      "cell_type": "code",
      "source": [
        "#Test accuracy with random initial weights\n",
        "prediction = Forwardpass(x_train,Wh,bh,Wo,bo)\n",
        "Acc = AccTest(y_train,prediction)\n",
        "print(Acc)"
      ],
      "metadata": {
        "colab": {
          "base_uri": "https://localhost:8080/"
        },
        "id": "Ir43Fu4yP6DD",
        "outputId": "5caaa9f1-45cf-41b8-a501-5669966dc4a6"
      },
      "execution_count": null,
      "outputs": [
        {
          "output_type": "stream",
          "name": "stdout",
          "text": [
            "0.8506166666666667\n"
          ]
        }
      ]
    },
    {
      "cell_type": "code",
      "source": [
        "#define the network parameter\n",
        "learningRate = 0.5\n",
        "Epoch = 50\n",
        "NumTrainSamples = 60000\n",
        "NumTestSamples = 10000\n",
        "NumInputs = 784\n",
        "NumHiddenUnits = 512\n",
        "NumClasses = 10\n",
        "\n",
        "#initial weights\n",
        "#hidden layer\n",
        "Wh = np.matrix(np.random.uniform(-0.5,0.5,(NumHiddenUnits,NumInputs)))\n",
        "bh = np.random.uniform(0,0.5,(1,NumHiddenUnits))\n",
        "dWh = np.zeros((NumHiddenUnits,NumInputs))\n",
        "dbh = np.zeros((1,NumHiddenUnits))\n",
        "#Output layer\n",
        "Wo = np.random.uniform(-0.5,0.5,(NumClasses,NumHiddenUnits))\n",
        "bo = np.random.uniform(0,0.5,(1,NumClasses))\n",
        "dWo = np.zeros((NumClasses,NumHiddenUnits))\n",
        "dbo = np.zeros((1,NumClasses))"
      ],
      "metadata": {
        "id": "5TLSvViARY0q"
      },
      "execution_count": null,
      "outputs": []
    },
    {
      "cell_type": "code",
      "source": [
        "#Mạng 2 lớp (Momentum)\n",
        "from IPython.display import clear_output\n",
        "import matplotlib.pyplot as plt\n",
        "loss = []\n",
        "Acc = []\n",
        "for ep in range (Epoch):\n",
        "  #feed fordware propagation\n",
        "  x = x_train\n",
        "  y = y_train\n",
        "  zh = x@Wh.T + bh\n",
        "  a = sigmoid(zh)\n",
        "  z = a@Wo.T + bo\n",
        "  o = softmax(z)\n",
        "\n",
        "  Wo_prev = 0\n",
        "  Wh_prev = 0\n",
        "\n",
        "  #calculate loss\n",
        "  loss.append(-np.sum(np.multiply(y,np.log10(o))))\n",
        "  #calculate the error for the output layer\n",
        "  d = o - y\n",
        "  #back propagate error\n",
        "  dh = d@Wo\n",
        "  dhs = np.multiply(np.multiply(dh,a),(1-a))\n",
        "  #update weight\n",
        "  dWo = np.matmul(np.transpose(d),a)\n",
        "  dbo = np.mean(d) #consider a is 1 for bias\n",
        "  dWh = np.matmul(np.transpose(dhs),x)\n",
        "  dbh = np.mean(dhs) #consider a is 1 for bias\n",
        "\n",
        "  Wo = Wo - learningRate * dWo/NumTrainSamples + 0.95 * Wo_prev\n",
        "  bo = bo - learningRate * dbo\n",
        "  Wh = Wh - learningRate * dWh/NumTrainSamples + 0.95 * Wh_prev\n",
        "  bh = bh - learningRate * dbh\n",
        "\n",
        "  Wo_prev = Wo\n",
        "  Wh_prev = Wh\n",
        "\n",
        "  #Test accuracy with random initial weights\n",
        "  prediction = Forwardpass(x_test,Wh,bh,Wo,bo)\n",
        "  Acc.append(AccTest(y_test,prediction))\n",
        "  clear_output(wait=True)\n",
        "  plt.plot([i for i, _ in enumerate(Acc)],Acc,'o')\n",
        "  plt.show()"
      ],
      "metadata": {
        "id": "hWcGupo12Rfd",
        "colab": {
          "base_uri": "https://localhost:8080/",
          "height": 265
        },
        "outputId": "bd3a5961-2e74-4e76-869b-673b140f2d6b"
      },
      "execution_count": null,
      "outputs": [
        {
          "output_type": "display_data",
          "data": {
            "text/plain": [
              "<Figure size 432x288 with 1 Axes>"
            ],
            "image/png": "[encoded data removed]"
          },
          "metadata": {
            "needs_background": "light"
          }
        }
      ]
    },
    {
      "cell_type": "code",
      "source": [
        "#Test accuracy with random initial weights\n",
        "prediction = Forwardpass(x_train,Wh,bh,Wo,bo)\n",
        "Acc = AccTest(y_train,prediction)\n",
        "print(Acc)"
      ],
      "metadata": {
        "id": "Lk84oNH42T68",
        "colab": {
          "base_uri": "https://localhost:8080/"
        },
        "outputId": "317a351e-b22a-40e0-bd99-fbd09d4b6c0e"
      },
      "execution_count": null,
      "outputs": [
        {
          "output_type": "stream",
          "name": "stdout",
          "text": [
            "0.8575166666666667\n"
          ]
        }
      ]
    },
    {
      "cell_type": "code",
      "source": [
        "'''\n",
        "NHẬN XÉT:\n",
        "  - Huấn luyện mạng theo kiểu momentum thì thời gian đến độ ổn định ngắn hơn, ít bước hơn so với huấn luyện kiểu trực tiếp.\n",
        "  - Trong khoảng thời gian đầu khi chưa đạt được sự ổn định, trọng số cập nhật của trường hợp huấn luyện trực tiếp biến động hơn so với trường hợp huấn luyện kiểu momentum.\n",
        "'''"
      ],
      "metadata": {
        "id": "EaA_D4noUYe7"
      },
      "execution_count": null,
      "outputs": []
    }
  ]
}