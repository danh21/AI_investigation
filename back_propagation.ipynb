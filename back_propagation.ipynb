{
  "nbformat": 4,
  "nbformat_minor": 0,
  "metadata": {
    "colab": {
      "provenance": [],
      "authorship_tag": "ABX9TyMNN8m1OCIWOk8FfOlARwvJ",
      "include_colab_link": true
    },
    "kernelspec": {
      "name": "python3",
      "display_name": "Python 3"
    },
    "language_info": {
      "name": "python"
    }
  },
  "cells": [
    {
      "cell_type": "markdown",
      "metadata": {
        "id": "view-in-github",
        "colab_type": "text"
      },
      "source": [
        "<a href=\"https://colab.research.google.com/github/danh21/AI_investigation/blob/main/back_propagation.ipynb\" target=\"_parent\"><img src=\"https://colab.research.google.com/assets/colab-badge.svg\" alt=\"Open In Colab\"/></a>"
      ]
    },
    {
      "cell_type": "code",
      "execution_count": null,
      "metadata": {
        "colab": {
          "base_uri": "https://localhost:8080/"
        },
        "id": "7ZgDlzkuwQky",
        "outputId": "6937eaaf-9078-4a8d-8f4a-144eff31c623"
      },
      "outputs": [
        {
          "output_type": "stream",
          "name": "stdout",
          "text": [
            "Load MNIST Database\n",
            "------------------------------------------\n",
            "(60000, 784)\n",
            "(60000, 10)\n"
          ]
        }
      ],
      "source": [
        "import numpy as np\n",
        "import tensorflow as tf\n",
        "#load datasheet\n",
        "print ('Load MNIST Database')\n",
        "mnist = tf.keras.datasets.mnist\n",
        "(x_train,y_train), (x_test, y_test) = mnist.load_data()\n",
        "x_train = np.reshape(x_train,(60000,784))/255.0\n",
        "x_test = np.reshape(x_test,(10000,784))/255.0\n",
        "y_train = np.matrix(np.eye(10)[y_train])\n",
        "y_test = np.matrix(np.eye(10)[y_test])\n",
        "print(\"------------------------------------------\")\n",
        "print(x_train.shape)\n",
        "print(y_train.shape)"
      ]
    },
    {
      "cell_type": "code",
      "source": [
        "def sigmoid(x):\n",
        "  return 1./(1.+np.exp(-x))"
      ],
      "metadata": {
        "id": "QDD0piT-8sze"
      },
      "execution_count": null,
      "outputs": []
    },
    {
      "cell_type": "code",
      "source": [
        "def softmax(x):\n",
        "  return np.divide(np.matrix(np.exp(x)),np.mat(np.sum(np.exp(x),axis=1)))"
      ],
      "metadata": {
        "id": "l1xFmOey8zKJ"
      },
      "execution_count": null,
      "outputs": []
    },
    {
      "cell_type": "code",
      "source": [
        "def Forwardpass(X,Wh,bh,Wo,bo):\n",
        "  zh = X@Wh.T + bh\n",
        "  a = sigmoid(zh)\n",
        "  z = a@Wo.T + bo\n",
        "  o = softmax(z)\n",
        "  return o"
      ],
      "metadata": {
        "id": "GAPCsoUF7Xvd"
      },
      "execution_count": null,
      "outputs": []
    },
    {
      "cell_type": "code",
      "source": [
        "def AccTest(label,prediction): #calculate the matching score\n",
        "  OutMaxArg = np.argmax(prediction,axis=1)\n",
        "  LabelMaxArg = np.argmax(label,axis=1)\n",
        "  Accuracy = np.mean(OutMaxArg==LabelMaxArg)\n",
        "  return Accuracy"
      ],
      "metadata": {
        "id": "P0zdV0859eAA"
      },
      "execution_count": null,
      "outputs": []
    },
    {
      "cell_type": "code",
      "source": [
        "#define the network parameter\n",
        "learningRate = 0.5\n",
        "Epoch = 10\n",
        "NumTrainSamples = 60000\n",
        "NumTestSamples = 10000\n",
        "NumInputs = 784\n",
        "NumHiddenUnits = 512\n",
        "NumClasses = 10\n",
        "\n",
        "#initial weights\n",
        "#hidden layer\n",
        "Wh = np.matrix(np.random.uniform(-0.5,0.5,(NumHiddenUnits,NumInputs)))\n",
        "bh = np.random.uniform(0,0.5,(1,NumHiddenUnits))\n",
        "dWh = np.zeros((NumHiddenUnits,NumInputs))\n",
        "dbh = np.zeros((1,NumHiddenUnits))\n",
        "#Output layer\n",
        "Wo = np.random.uniform(-0.5,0.5,(NumClasses,NumHiddenUnits))\n",
        "bo = np.random.uniform(0,0.5,(1,NumClasses))\n",
        "dWo = np.zeros((NumClasses,NumHiddenUnits))\n",
        "dbo = np.zeros((1,NumClasses))"
      ],
      "metadata": {
        "id": "RI1r4b_G-QPR"
      },
      "execution_count": null,
      "outputs": []
    },
    {
      "cell_type": "code",
      "source": [
        "#Test accuracy with random initial weights\n",
        "prediction = Forwardpass(x_train,Wh,bh,Wo,bo)\n",
        "Acc = AccTest(y_train,prediction)\n",
        "print(Acc)"
      ],
      "metadata": {
        "colab": {
          "base_uri": "https://localhost:8080/"
        },
        "id": "FezfUGVXAscS",
        "outputId": "9e29fe20-229a-47e3-fea9-a4e45e36a4fe"
      },
      "execution_count": null,
      "outputs": [
        {
          "output_type": "stream",
          "name": "stdout",
          "text": [
            "0.09675\n"
          ]
        }
      ]
    },
    {
      "cell_type": "code",
      "source": [
        "from IPython.display import clear_output\n",
        "import matplotlib.pyplot as plt\n",
        "loss = []\n",
        "Acc = []\n",
        "for ep in range (Epoch):\n",
        "  #feed fordware propagation\n",
        "  x = x_train\n",
        "  y = y_train\n",
        "  zh = x@Wh.T + bh\n",
        "  a = sigmoid(zh)\n",
        "  z = a@Wo.T + bo\n",
        "  o = softmax(z)\n",
        "  #calculate loss\n",
        "  loss.append(-np.sum(np.multiply(y,np.log10(o))))\n",
        "  #calculate the error for the output layer\n",
        "  d = o - y\n",
        "  #back propagate error\n",
        "  dh = d@Wo\n",
        "  dhs = np.multiply(np.multiply(dh,a),(1-a))\n",
        "  #update weight\n",
        "  dWo = np.matmul(np.transpose(d),a)\n",
        "  dbo = np.mean(d) #consider a is 1 for bias\n",
        "  dWh = np.matmul(np.transpose(dhs),x)\n",
        "  dbh = np.mean(dhs) #consider a is 1 for bias\n",
        "  Wo = Wo - learningRate * dWo/NumTrainSamples\n",
        "  bo = bo - learningRate * dbo\n",
        "  Wh = Wh - learningRate * dWh/NumTrainSamples\n",
        "  bh = bh - learningRate * dbh\n",
        "  #Test accuracy with random initial weights\n",
        "  prediction = Forwardpass(x_test,Wh,bh,Wo,bo)\n",
        "  Acc.append(AccTest(y_test,prediction))\n",
        "  clear_output(wait=True)\n",
        "  plt.plot([i for i, _ in enumerate(Acc)],Acc,'o')\n",
        "  plt.show() #càng ngày càng chính xác hơn"
      ],
      "metadata": {
        "id": "kDGBLjvTCKHa"
      },
      "execution_count": null,
      "outputs": []
    },
    {
      "cell_type": "code",
      "source": [
        "#Test accuracy with random initial weights\n",
        "prediction = Forwardpass(x_train,Wh,bh,Wo,bo)\n",
        "Acc = AccTest(y_train,prediction)\n",
        "print(Acc)"
      ],
      "metadata": {
        "colab": {
          "base_uri": "https://localhost:8080/"
        },
        "id": "oIg-1H4jHlLH",
        "outputId": "d7ec04d7-eb60-4b3c-a95b-4972908e308c"
      },
      "execution_count": null,
      "outputs": [
        {
          "output_type": "stream",
          "name": "stdout",
          "text": [
            "0.4963166666666667\n"
          ]
        }
      ]
    },
    {
      "cell_type": "code",
      "source": [
        "#mini-batch SGD\n",
        "from IPython.display import clear_output\n",
        "import matplotlib.pyplot as plt\n",
        "loss = []\n",
        "Acc = []\n",
        "Batch_size = 200\n",
        "Stochastic_samples = np.arange(NumTrainSamples) # 0,1,2,3,4,5,6,7,...,59999\n",
        "for ep in range (Epoch):\n",
        "  np.random.shuffle(Stochastic_samples)\n",
        "  for ite in range (0,NumTrainSamples,Batch_size):\n",
        "    #feed fordware propagation\n",
        "    Batch_samples = Stochastic_samples[ite:ite+Batch_size]\n",
        "    x = x_train[Batch_samples,:]\n",
        "    y = y_train[Batch_samples,:]\n",
        "    zh = x@Wh.T + bh\n",
        "    a = sigmoid(zh)\n",
        "    z = a@Wo.T + bo\n",
        "    o = softmax(z)\n",
        "    #calculate loss\n",
        "    loss.append(-np.sum(np.multiply(y,np.log10(o))))\n",
        "    #calculate the error for the output layer\n",
        "    d = o - y\n",
        "    #back propagate error\n",
        "    dh = d@Wo\n",
        "    dhs = np.multiply(np.multiply(dh,a),(1-a))\n",
        "    #update weight\n",
        "    dWo = np.matmul(np.transpose(d),a)\n",
        "    dbo = np.mean(d) #consider a is 1 for bias\n",
        "    dWh = np.matmul(np.transpose(dhs),x)\n",
        "    dbh = np.mean(dhs) #consider a is 1 for bias\n",
        "    Wo = Wo - learningRate * dWo/Batch_size\n",
        "    bo = bo - learningRate * dbo\n",
        "    Wh = Wh - learningRate * dWh/Batch_size\n",
        "    bh = bh - learningRate * dbh\n",
        "  #Test accuracy with random initial weights\n",
        "  prediction = Forwardpass(x_test,Wh,bh,Wo,bo)\n",
        "  Acc.append(AccTest(y_test,prediction))\n",
        "  print('Epoch:',ep)\n",
        "  print('Accuracy:',AccTest(y_test,prediction))"
      ],
      "metadata": {
        "colab": {
          "base_uri": "https://localhost:8080/"
        },
        "id": "ApiydZ4-ITW9",
        "outputId": "9e53d594-9c35-42f9-8d80-73b1bc96b247"
      },
      "execution_count": null,
      "outputs": [
        {
          "output_type": "stream",
          "name": "stdout",
          "text": [
            "Epoch: 0\n",
            "Accuracy: 0.9002\n",
            "Epoch: 1\n",
            "Accuracy: 0.9352\n",
            "Epoch: 2\n",
            "Accuracy: 0.9434\n",
            "Epoch: 3\n",
            "Accuracy: 0.9471\n",
            "Epoch: 4\n",
            "Accuracy: 0.9529\n",
            "Epoch: 5\n",
            "Accuracy: 0.9555\n",
            "Epoch: 6\n",
            "Accuracy: 0.9582\n",
            "Epoch: 7\n",
            "Accuracy: 0.9582\n",
            "Epoch: 8\n",
            "Accuracy: 0.9631\n",
            "Epoch: 9\n",
            "Accuracy: 0.9629\n"
          ]
        }
      ]
    }
  ]
}